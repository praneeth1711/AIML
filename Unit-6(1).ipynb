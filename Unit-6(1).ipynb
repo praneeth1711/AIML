{
  "nbformat": 4,
  "nbformat_minor": 0,
  "metadata": {
    "colab": {
      "provenance": [],
      "authorship_tag": "ABX9TyPkMQMX1JSlafM16JDkPxXd",
      "include_colab_link": true
    },
    "kernelspec": {
      "name": "python3",
      "display_name": "Python 3"
    },
    "language_info": {
      "name": "python"
    }
  },
  "cells": [
    {
      "cell_type": "markdown",
      "metadata": {
        "id": "view-in-github",
        "colab_type": "text"
      },
      "source": [
        "<a href=\"https://colab.research.google.com/github/praneeth1711/AIML/blob/main/Unit-6(1).ipynb\" target=\"_parent\"><img src=\"https://colab.research.google.com/assets/colab-badge.svg\" alt=\"Open In Colab\"/></a>"
      ]
    },
    {
      "cell_type": "code",
      "execution_count": 4,
      "metadata": {
        "colab": {
          "base_uri": "https://localhost:8080/"
        },
        "id": "2zwy253XrsOc",
        "outputId": "01faa410-c7ed-4aa4-893a-0ba5b75ed9e7"
      },
      "outputs": [
        {
          "output_type": "stream",
          "name": "stdout",
          "text": [
            "1.3\n"
          ]
        }
      ],
      "source": [
        "inputs=[1,2,3]\n",
        "weights=[0.2,0.3,-0.5]\n",
        "bias=2\n",
        "\n",
        "\n",
        "output=inputs[0]*weights[0]+inputs[1]*weights[1]+inputs[2]*weights[2]+bias\n",
        "print(output)"
      ]
    },
    {
      "cell_type": "code",
      "source": [
        "input=[0.4,0.3,1,0.8]\n",
        "weight1=[0.3,0.2,0.1,0.4]\n",
        "weight2=[0.4,0.1,-0.1,0.2]\n",
        "weight3=[0.2,-0.2,-0.1,0.8]\n",
        "\n",
        "bias1=0.5\n",
        "bias2=0.3\n",
        "bias3=0.6\n",
        "\n",
        "output=[input[0]*weight1[0]+input[1]*weight1[1]+input[2]*weight1[2]+input[3]*weight1[3]+bias1,\n",
        "       input[0]*weight2[0]+input[1]*weight2[1]+input[2]*weight2[2]+input[3]*weight2[3]+bias2,\n",
        "      input[0]*weight3[0]+input[1]*weight3[1]+input[2]*weight3[2]+input[3]*weight3[3]+bias3]\n",
        "\n",
        "print(output)"
      ],
      "metadata": {
        "colab": {
          "base_uri": "https://localhost:8080/"
        },
        "id": "Z_69U9ZXvln8",
        "outputId": "85f10669-399c-4aab-d656-b95f6b62db74"
      },
      "execution_count": 5,
      "outputs": [
        {
          "output_type": "stream",
          "name": "stdout",
          "text": [
            "[1.1, 0.55, 1.1600000000000001]\n"
          ]
        }
      ]
    },
    {
      "cell_type": "code",
      "source": [
        "import numpy as np\n",
        "\n",
        "inputs=np.array([0.4,0.3,1,0.8])\n",
        "\n",
        "weights=np.array([\n",
        "\n",
        "    [0.3,0.2,0.1,0.4],\n",
        "    [0.4,0.1,-0.1,0.2],\n",
        "    [0.2,-0.2,-0.1,0.8],\n",
        "])\n",
        "\n",
        "biases=np.array([0.5,0.3,0.6])\n",
        "\n",
        "output=np.dot(weights,inputs)+biases\n",
        "\n",
        "\n",
        "print(output)\n",
        "\n"
      ],
      "metadata": {
        "colab": {
          "base_uri": "https://localhost:8080/"
        },
        "id": "Q3IkrXSU0sLC",
        "outputId": "223a57b6-45c8-46fe-b724-a0a217ed4502"
      },
      "execution_count": 7,
      "outputs": [
        {
          "output_type": "stream",
          "name": "stdout",
          "text": [
            "[1.1  0.55 1.16]\n"
          ]
        }
      ]
    },
    {
      "cell_type": "code",
      "source": [
        "import numpy as np\n",
        "\n",
        "def relu(x):\n",
        "  return np.maximum(0,x)\n",
        "  inputs=np.array([0.4,0.3,1,0.8])\n",
        "\n",
        "weights=np.array([\n",
        "\n",
        "    [0.3,0.2,0.1,0.4],\n",
        "    [0.4,0.1,-0.1,0.2],\n",
        "    [0.2,-0.2,-0.1,0.8],\n",
        "])\n",
        "\n",
        "biases=np.array([0.5,0.3,0.6])\n",
        "\n",
        "output=relu(output)\n",
        "\n",
        "\n",
        "print(output)\n"
      ],
      "metadata": {
        "colab": {
          "base_uri": "https://localhost:8080/"
        },
        "id": "laC6ALdE1lTT",
        "outputId": "259cd570-2f1a-41ca-8f81-772be0079a01"
      },
      "execution_count": 9,
      "outputs": [
        {
          "output_type": "stream",
          "name": "stdout",
          "text": [
            "[1.1  0.55 1.16]\n"
          ]
        }
      ]
    },
    {
      "cell_type": "code",
      "source": [
        "import numpy as np\n",
        "def sigmoid(x):\n",
        "  return 1/(1+np.exp(-x))\n",
        "def relux(x):\n",
        "  return np.maximum(0,x)\n",
        "  inputs=np.array([0.4,0.3,1,0.8])\n",
        "\n",
        "weights=np.array([\n",
        "\n",
        "    [0.3,0.2,0.1,0.4],\n",
        "    [0.4,0.1,-0.1,0.2],\n",
        "    [0.2,-0.2,-0.1,0.8],\n",
        "])\n",
        "\n",
        "biases=np.array([0.5,0.3,0.6])\n",
        "\n",
        "output=np.dot(weights,inputs)+biases\n",
        "\n",
        "output1=relu(output)\n",
        "print(output1)\n",
        "output2=sigmoid(output)\n",
        "print(output2)\n",
        ""
      ],
      "metadata": {
        "colab": {
          "base_uri": "https://localhost:8080/"
        },
        "id": "AQx46C4a8Enx",
        "outputId": "7a4094c0-0bc6-438d-b9ab-9e1668b833e5"
      },
      "execution_count": 10,
      "outputs": [
        {
          "output_type": "stream",
          "name": "stdout",
          "text": [
            "[1.1  0.55 1.16]\n",
            "[0.75026011 0.63413559 0.76133271]\n"
          ]
        }
      ]
    }
  ]
}