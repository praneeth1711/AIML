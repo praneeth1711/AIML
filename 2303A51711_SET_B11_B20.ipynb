{
  "nbformat": 4,
  "nbformat_minor": 0,
  "metadata": {
    "colab": {
      "provenance": [],
      "authorship_tag": "ABX9TyPwAmTK2ldZMwwEq1sErJeA",
      "include_colab_link": true
    },
    "kernelspec": {
      "name": "python3",
      "display_name": "Python 3"
    },
    "language_info": {
      "name": "python"
    }
  },
  "cells": [
    {
      "cell_type": "markdown",
      "metadata": {
        "id": "view-in-github",
        "colab_type": "text"
      },
      "source": [
        "<a href=\"https://colab.research.google.com/github/praneeth1711/AIML/blob/main/2303A51711_SET_B11_B20.ipynb\" target=\"_parent\"><img src=\"https://colab.research.google.com/assets/colab-badge.svg\" alt=\"Open In Colab\"/></a>"
      ]
    },
    {
      "cell_type": "code",
      "execution_count": 1,
      "metadata": {
        "colab": {
          "base_uri": "https://localhost:8080/"
        },
        "id": "VCas5Tt6lWpL",
        "outputId": "9ce6c92d-3ef3-4b5f-adba-eaca67adda84"
      },
      "outputs": [
        {
          "output_type": "stream",
          "name": "stdout",
          "text": [
            "material\n",
            "Cotton    4\n",
            "Silk      2\n",
            "Linen     1\n",
            "Wool      1\n",
            "Name: count, dtype: int64\n"
          ]
        }
      ],
      "source": [
        "import pandas as pd\n",
        "\n",
        "# Create a sample DataFrame (replace with your actual data loading)\n",
        "data = {'material': ['Cotton', 'Silk', 'Cotton', 'Linen', 'Cotton', 'Silk', 'Wool', 'Cotton'],\n",
        "        'season': ['Summer', 'Spring', 'Summer', 'Summer', 'Spring', 'Summer', 'Winter', 'Fall'],\n",
        "        'size': ['S', 'M', 'L', 'M', 'S', 'L', 'XL', 'M'],\n",
        "        'decoration': ['Print', 'Embroidery', 'Plain', 'Embroidery', 'Print', 'Plain', 'Knit', 'Print'],\n",
        "        'fabric_type': ['Knit', 'Woven', 'Knit', 'Woven', 'Knit', 'Woven', 'Knit', 'Woven'],\n",
        "        'cost': [20, 50, 30, 45, 25, 60, 70, 35]}\n",
        "df = pd.DataFrame(data)\n",
        "\n",
        "# Calculate the top 5 most used materials\n",
        "top_materials = df['material'].value_counts().head(5)\n",
        "print(top_materials)"
      ]
    },
    {
      "cell_type": "code",
      "source": [
        "# Calculate the most popular seasons for garments\n",
        "top_seasons = df['season'].value_counts().head(5)\n",
        "print(top_seasons)"
      ],
      "metadata": {
        "colab": {
          "base_uri": "https://localhost:8080/"
        },
        "id": "zUYNiDwSlev9",
        "outputId": "a6c2e92a-648c-4e1b-ff64-214948c66f1d"
      },
      "execution_count": 2,
      "outputs": [
        {
          "output_type": "stream",
          "name": "stdout",
          "text": [
            "season\n",
            "Summer    4\n",
            "Spring    2\n",
            "Winter    1\n",
            "Fall      1\n",
            "Name: count, dtype: int64\n"
          ]
        }
      ]
    },
    {
      "cell_type": "code",
      "source": [
        "# Assuming 'size' is numeric (you can adjust if it’s categorical like S, M, L, etc.)\n",
        "max_size = df['size'].max()\n",
        "min_size = df['size'].min()\n",
        "print(f\"Max Size: {max_size}\")\n",
        "print(f\"Min Size: {min_size}\")"
      ],
      "metadata": {
        "colab": {
          "base_uri": "https://localhost:8080/"
        },
        "id": "_nrAzq0wliun",
        "outputId": "c49e4655-ace1-46ee-ec5c-cfa97097a419"
      },
      "execution_count": 3,
      "outputs": [
        {
          "output_type": "stream",
          "name": "stdout",
          "text": [
            "Max Size: XL\n",
            "Min Size: L\n"
          ]
        }
      ]
    },
    {
      "cell_type": "code",
      "source": [
        "# Calculate the top 5 most common decorations and fabric types\n",
        "top_decorations = df['decoration'].value_counts().head(5)\n",
        "top_fabric_types = df['fabric_type'].value_counts().head(5)\n",
        "\n",
        "print(\"Top Decorations:\", top_decorations)\n",
        "print(\"Top Fabric Types:\", top_fabric_types)"
      ],
      "metadata": {
        "colab": {
          "base_uri": "https://localhost:8080/"
        },
        "id": "N7AVGCv5lnG2",
        "outputId": "7feb1714-fa50-4579-e960-940fb5f86821"
      },
      "execution_count": 4,
      "outputs": [
        {
          "output_type": "stream",
          "name": "stdout",
          "text": [
            "Top Decorations: decoration\n",
            "Print         3\n",
            "Embroidery    2\n",
            "Plain         2\n",
            "Knit          1\n",
            "Name: count, dtype: int64\n",
            "Top Fabric Types: fabric_type\n",
            "Knit     4\n",
            "Woven    4\n",
            "Name: count, dtype: int64\n"
          ]
        }
      ]
    },
    {
      "cell_type": "code",
      "source": [
        "# Calculate the top 5 most common decorations and fabric types\n",
        "top_decorations = df['decoration'].value_counts().head(5)\n",
        "top_fabric_types = df['fabric_type'].value_counts().head(5)\n",
        "\n",
        "print(\"Top Decorations:\", top_decorations)\n",
        "print(\"Top Fabric Types:\", top_fabric_types)"
      ],
      "metadata": {
        "colab": {
          "base_uri": "https://localhost:8080/"
        },
        "id": "mZrgf3cklr_A",
        "outputId": "e63e27bd-ee33-4008-be1a-a7db969a8f88"
      },
      "execution_count": 5,
      "outputs": [
        {
          "output_type": "stream",
          "name": "stdout",
          "text": [
            "Top Decorations: decoration\n",
            "Print         3\n",
            "Embroidery    2\n",
            "Plain         2\n",
            "Knit          1\n",
            "Name: count, dtype: int64\n",
            "Top Fabric Types: fabric_type\n",
            "Knit     4\n",
            "Woven    4\n",
            "Name: count, dtype: int64\n"
          ]
        }
      ]
    },
    {
      "cell_type": "code",
      "source": [
        "import pandas as pd\n",
        "\n",
        "# Create a sample DataFrame (replace with your actual data loading)\n",
        "data = {'material': ['Cotton', 'Silk', 'Cotton', 'Linen', 'Cotton', 'Silk', 'Wool', 'Cotton'],\n",
        "        'season': ['Summer', 'Spring', 'Summer', 'Summer', 'Spring', 'Summer', 'Winter', 'Fall'],\n",
        "        'size': ['S', 'M', 'L', 'M', 'S', 'L', 'XL', 'M'],\n",
        "        'decoration': ['Print', 'Embroidery', 'Plain', 'Embroidery', 'Print', 'Plain', 'Knit', 'Print'],\n",
        "        'fabric_type': ['Knit', 'Woven', 'Knit', 'Woven', 'Knit', 'Woven', 'Knit', 'Woven'],\n",
        "        'cost': [20, 50, 30, 45, 25, 60, 70, 35]}\n",
        "df = pd.DataFrame(data)\n",
        "\n",
        "# Assuming 'cost' is a numeric column and you want to find the costliest garment overall\n",
        "# If you have a 'style' column, replace 'material' with 'style' in the following line\n",
        "costliest_garment = df.nlargest(1, 'cost')\n",
        "print(\"Costliest Garment:\", costliest_garment)"
      ],
      "metadata": {
        "colab": {
          "base_uri": "https://localhost:8080/"
        },
        "id": "0yHzSJ7BlvzF",
        "outputId": "3eab0a57-5e04-4eee-db2a-54981ed80cd5"
      },
      "execution_count": 6,
      "outputs": [
        {
          "output_type": "stream",
          "name": "stdout",
          "text": [
            "Costliest Garment:   material  season size decoration fabric_type  cost\n",
            "6     Wool  Winter   XL       Knit        Knit    70\n"
          ]
        }
      ]
    },
    {
      "cell_type": "code",
      "source": [
        "from sklearn.model_selection import train_test_split\n",
        "from sklearn.ensemble import RandomForestClassifier\n",
        "from sklearn.metrics import classification_report\n",
        "import pandas as pd\n",
        "\n",
        "# Assume you want to classify the 'season' based on other features,\n",
        "# as 'style' column is not available in the dataframe\n",
        "X = df[['size', 'material', 'fabric_type', 'decoration', 'cost']]  # Features\n",
        "# Changed the target column to 'season'\n",
        "y = df['season']  # Target column"
      ],
      "metadata": {
        "id": "DEYyXaY0l2rb"
      },
      "execution_count": 7,
      "outputs": []
    },
    {
      "cell_type": "code",
      "source": [
        "from sklearn.cluster import KMeans\n",
        "import matplotlib.pyplot as plt\n",
        "\n",
        "# Assuming the same feature set as above\n",
        "X = df[['size', 'material', 'fabric_type', 'decoration', 'cost']]  # Features\n",
        "X = pd.get_dummies(X)\n",
        "\n",
        "# Apply KMeans clustering\n",
        "kmeans = KMeans(n_clusters=3, random_state=42)  # You can change the number of clusters\n",
        "df['cluster'] = kmeans.fit_predict(X)\n",
        "\n",
        "# Plot the clusters (if 2D or 3D features)\n",
        "plt.scatter(df['size'], df['cost'], c=df['cluster'])\n",
        "plt.xlabel('Size')\n",
        "plt.ylabel('Cost')\n",
        "plt.title('Clustering of Garments')\n",
        "plt.show()"
      ],
      "metadata": {
        "colab": {
          "base_uri": "https://localhost:8080/",
          "height": 472
        },
        "id": "-hFr9W1Jl5H6",
        "outputId": "2fb6e7b8-dfa5-4078-81ed-6286698cc003"
      },
      "execution_count": 8,
      "outputs": [
        {
          "output_type": "display_data",
          "data": {
            "text/plain": [
              "<Figure size 640x480 with 1 Axes>"
            ],
            "image/png": "[encoded data removed]"
          },
          "metadata": {}
        }
      ]
    }
  ]
}